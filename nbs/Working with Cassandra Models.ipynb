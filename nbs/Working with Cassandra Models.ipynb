{
 "cells": [
  {
   "cell_type": "code",
   "execution_count": 3,
   "id": "73767744-1048-4e8f-9265-5fdab97c6854",
   "metadata": {},
   "outputs": [
    {
     "name": "stdout",
     "output_type": "stream",
     "text": [
      "C:\\Users\\Dimitar\\Desktop\\python projects\\fastapi-nosql-scrape\n"
     ]
    }
   ],
   "source": [
    "cd /Users/Dimitar/Desktop/python projects/fastapi-nosql-scrape"
   ]
  },
  {
   "cell_type": "code",
   "execution_count": 4,
   "id": "ac548dd0-ce6c-49eb-b8e5-243eab7bcc6b",
   "metadata": {},
   "outputs": [],
   "source": [
    "from app import db, crud, models"
   ]
  },
  {
   "cell_type": "code",
   "execution_count": null,
   "id": "4f94b02a-d167-4746-9bc8-251b0061d920",
   "metadata": {},
   "outputs": [],
   "source": []
  }
 ],
 "metadata": {
  "kernelspec": {
   "display_name": "Python 3 (ipykernel)",
   "language": "python",
   "name": "python3"
  },
  "language_info": {
   "codemirror_mode": {
    "name": "ipython",
    "version": 3
   },
   "file_extension": ".py",
   "mimetype": "text/x-python",
   "name": "python",
   "nbconvert_exporter": "python",
   "pygments_lexer": "ipython3",
   "version": "3.11.5"
  }
 },
 "nbformat": 4,
 "nbformat_minor": 5
}
