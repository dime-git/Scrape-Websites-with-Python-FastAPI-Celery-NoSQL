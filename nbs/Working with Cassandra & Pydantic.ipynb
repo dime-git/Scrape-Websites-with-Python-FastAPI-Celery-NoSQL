{
 "cells": [
  {
   "cell_type": "code",
   "execution_count": 10,
   "id": "d636268a",
   "metadata": {},
   "outputs": [
    {
     "name": "stdout",
     "output_type": "stream",
     "text": [
      "C:\\Users\\Dimitar\\Desktop\\python projects\\fastapi-nosql-scrape\n"
     ]
    }
   ],
   "source": [
    "cd /Users/Dimitar/Desktop/python projects/fastapi-nosql-scrape"
   ]
  },
  {
   "cell_type": "code",
   "execution_count": 11,
   "id": "17ecc158",
   "metadata": {},
   "outputs": [],
   "source": [
    "import uuid\n",
    "from app import db, crud, models, schema"
   ]
  },
  {
   "cell_type": "code",
   "execution_count": 12,
   "id": "f6419ebc",
   "metadata": {},
   "outputs": [],
   "source": [
    "session = db.get_session()"
   ]
  },
  {
   "cell_type": "code",
   "execution_count": 4,
   "id": "86b2ddcc",
   "metadata": {},
   "outputs": [],
   "source": [
    "data = {'asin': 'TESTING123', 'title': 'Mark 1adsf', 'abc123': 'nothing'}"
   ]
  },
  {
   "cell_type": "code",
   "execution_count": 5,
   "id": "62531ead",
   "metadata": {},
   "outputs": [],
   "source": [
    "from pydantic import BaseModel"
   ]
  },
  {
   "cell_type": "code",
   "execution_count": 6,
   "id": "28916565",
   "metadata": {},
   "outputs": [],
   "source": [
    "class ProductBaseModel(BaseModel):\n",
    "    asin: str\n",
    "    title: str"
   ]
  },
  {
   "cell_type": "code",
   "execution_count": 7,
   "id": "883e8bcc",
   "metadata": {},
   "outputs": [
    {
     "data": {
      "text/plain": [
       "{'asin': 'TESTING123', 'title': 'Mark 1adsf'}"
      ]
     },
     "execution_count": 7,
     "metadata": {},
     "output_type": "execute_result"
    }
   ],
   "source": [
    "product = ProductBaseModel(**data)\n",
    "product.dict()"
   ]
  },
  {
   "cell_type": "code",
   "execution_count": 8,
   "id": "b6de0c2e",
   "metadata": {},
   "outputs": [
    {
     "data": {
      "text/plain": [
       "(Product(asin='TESTING123', title='Mark 1adsf', price_str='-100'),\n",
       " ProductScrapeEvent(uuid=UUID('564edf47-8fb0-11ef-a1e4-f077c3857b3a'), asin='TESTING123', title='Mark 1adsf', price_str='-100'))"
      ]
     },
     "execution_count": 8,
     "metadata": {},
     "output_type": "execute_result"
    }
   ],
   "source": [
    "crud.add_scrape_event(product.dict(), fresh=True)"
   ]
  },
  {
   "cell_type": "code",
   "execution_count": 9,
   "id": "f78c82d5",
   "metadata": {},
   "outputs": [],
   "source": [
    "from pydantic import ValidationError\n",
    "\n",
    "data = dict(data)\n",
    "data['uuid'] = uuid.uuid1()\n",
    "try:\n",
    "    schema.ProductScrapeEventSchema(**data)\n",
    "except ValidationError as e:\n",
    "    print(e.json())"
   ]
  },
  {
   "cell_type": "code",
   "execution_count": null,
   "id": "b6955790",
   "metadata": {},
   "outputs": [],
   "source": []
  }
 ],
 "metadata": {
  "kernelspec": {
   "display_name": "Python 3 (ipykernel)",
   "language": "python",
   "name": "python3"
  },
  "language_info": {
   "codemirror_mode": {
    "name": "ipython",
    "version": 3
   },
   "file_extension": ".py",
   "mimetype": "text/x-python",
   "name": "python",
   "nbconvert_exporter": "python",
   "pygments_lexer": "ipython3",
   "version": "3.11.5"
  }
 },
 "nbformat": 4,
 "nbformat_minor": 5
}
